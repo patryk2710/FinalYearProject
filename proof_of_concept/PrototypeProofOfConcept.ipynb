{
 "cells": [
  {
   "cell_type": "markdown",
   "id": "a8799eb8",
   "metadata": {},
   "source": [
    "# Small scale proof of concept prototype for demo purposes\n",
    "\n",
    "Github includes a few images that were used to test this prototype. The reason these arent continuously taken is in order to have the exact same environment for every picture. This is because the real testing station is not being built yet for this demo prototype."
   ]
  },
  {
   "cell_type": "code",
   "execution_count": 1,
   "id": "1cf61f61",
   "metadata": {},
   "outputs": [],
   "source": [
    "# Imports\n",
    "%matplotlib inline\n",
    "\n",
    "import cv2\n",
    "import numpy as np\n",
    "from matplotlib import pyplot as plt\n",
    "from matplotlib import image as image\n",
    "import easygui"
   ]
  },
  {
   "cell_type": "markdown",
   "id": "2d244fc4",
   "metadata": {},
   "source": [
    "## Load a picture for classification\n",
    "A new picture will be taken here in the real version"
   ]
  },
  {
   "cell_type": "code",
   "execution_count": 36,
   "id": "17fcd988",
   "metadata": {},
   "outputs": [],
   "source": [
    "# Selecting image to classify\n",
    "f = easygui.fileopenbox(filetypes=[\"*.jpg\",\"*.jpeg\",\"*.png\", \"*.bmp\"])\n",
    "bottle = cv2.imread(f)"
   ]
  },
  {
   "cell_type": "code",
   "execution_count": 37,
   "id": "9e2647e0",
   "metadata": {},
   "outputs": [],
   "source": [
    "# create mask of just the cap\n",
    "# also mask of just he item\n",
    "G = cv2.cvtColor(bottle, cv2.COLOR_BGR2GRAY)\n",
    "ret, binaryCap = cv2.threshold(G, 80,255, cv2.THRESH_BINARY)\n",
    "ret, binaryItem = cv2.threshold(G, 150,255, cv2.THRESH_BINARY)\n",
    "\n",
    "bottleCopy = bottle.copy()\n",
    "\n",
    "capFound = False\n",
    "itemBig = False"
   ]
  },
  {
   "cell_type": "code",
   "execution_count": 38,
   "id": "56278154",
   "metadata": {},
   "outputs": [],
   "source": [
    "# Find features (small rectangle of cap), done by extracting contours, \n",
    "# then finding a small area, this will most likely be the cap\n",
    "contours, _ = cv2.findContours(binaryCap, cv2.RETR_TREE, cv2.CHAIN_APPROX_SIMPLE)\n",
    "\n",
    "for contour in contours:\n",
    "    currentArea = cv2.contourArea(contour)\n",
    "    \n",
    "    # condition that finds the cap\n",
    "    if currentArea > 8000 and currentArea < 12000:\n",
    "        (x, y, w, h) = cv2.boundingRect(contour) # generate coordinates for rectangle around object\n",
    "    \n",
    "        # Draw rectangle and a cap notation onto original, for demonstration purposes\n",
    "        cv2.rectangle(bottleCopy, (x, y), (x + w, y + h), (0,0,255), 5)\n",
    "        cv2.putText(bottleCopy,'Cap', (x,y-8), cv2.FONT_HERSHEY_PLAIN, 2, (0,0,255),2,cv2.LINE_AA)\n",
    "        \n",
    "        capFound = True"
   ]
  },
  {
   "cell_type": "code",
   "execution_count": 39,
   "id": "e6f617a4-9c58-4b01-8d35-47168dfb1974",
   "metadata": {},
   "outputs": [],
   "source": [
    "# Find rough length, if this is too small then it cant be the bottle\n",
    "# extract contours from this binary image\n",
    "binaryRev = cv2.bitwise_not(binaryItem)\n",
    "contours, _ = cv2.findContours(binaryRev, cv2.RETR_TREE, cv2.CHAIN_APPROX_SIMPLE)\n",
    "\n",
    "# get size of full image\n",
    "height, width, d = bottle.shape\n",
    "height = height * 0.6\n",
    "\n",
    "for contour in contours:\n",
    "    (x, y, w, h) = cv2.boundingRect(contour)\n",
    "    \n",
    "    #condition that makes sure the item is big enough to be a bottle\n",
    "    if h > height:\n",
    "        \n",
    "        # Draw rectangle and a cap notation onto original, for demonstration purposes\n",
    "        cv2.rectangle(bottleCopy, (x, y), (x + w, y + h), (0,255,0), 5)\n",
    "        cv2.putText(bottleCopy,'Bottle', (x,y-8), cv2.FONT_HERSHEY_PLAIN, 2, (0,255,0),2,cv2.LINE_AA)\n",
    "        \n",
    "        itemBig = True"
   ]
  },
  {
   "cell_type": "code",
   "execution_count": 40,
   "id": "269813b0",
   "metadata": {},
   "outputs": [
    {
     "name": "stdout",
     "output_type": "stream",
     "text": [
      "bottle found\n"
     ]
    }
   ],
   "source": [
    "if capFound == True and itemBig == True:\n",
    "    print(\"bottle found\")\n",
    "else:\n",
    "    print(\"bottle not found\")"
   ]
  },
  {
   "cell_type": "code",
   "execution_count": 41,
   "id": "e49e9778-ef8a-41c4-877e-89b36ddba0fb",
   "metadata": {},
   "outputs": [],
   "source": [
    "cv2.imshow(\"original\", bottleCopy)\n",
    "cv2.imshow(\"reverse\", binaryRev)\n",
    "cv2.imshow(\"itemMask\", binaryItem)\n",
    "cv2.imshow(\"CapMask\", binaryCap)\n",
    "key = cv2.waitKey(0) # the 0 here tells openCV to wait indefinitely (until a key is pressed)\n",
    "cv2.destroyAllWindows()"
   ]
  },
  {
   "cell_type": "code",
   "execution_count": null,
   "id": "61d0d03d-d45a-4544-b4a8-6ebb30f5b4fe",
   "metadata": {},
   "outputs": [],
   "source": []
  }
 ],
 "metadata": {
  "kernelspec": {
   "display_name": "Python 3 (ipykernel)",
   "language": "python",
   "name": "python3"
  },
  "language_info": {
   "codemirror_mode": {
    "name": "ipython",
    "version": 3
   },
   "file_extension": ".py",
   "mimetype": "text/x-python",
   "name": "python",
   "nbconvert_exporter": "python",
   "pygments_lexer": "ipython3",
   "version": "3.9.7"
  }
 },
 "nbformat": 4,
 "nbformat_minor": 5
}
